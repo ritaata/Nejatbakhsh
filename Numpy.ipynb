{
 "cells": [
  {
   "cell_type": "code",
   "execution_count": null,
   "id": "1aba8bc7",
   "metadata": {},
   "outputs": [],
   "source": [
    "import math"
   ]
  },
  {
   "cell_type": "code",
   "execution_count": null,
   "id": "b28b6d18",
   "metadata": {},
   "outputs": [],
   "source": [
    "math.sqrt(25)"
   ]
  },
  {
   "cell_type": "code",
   "execution_count": null,
   "id": "f12f6cfc",
   "metadata": {},
   "outputs": [],
   "source": [
    "math.log(100, 10)"
   ]
  },
  {
   "cell_type": "code",
   "execution_count": null,
   "id": "8e331a8f",
   "metadata": {},
   "outputs": [],
   "source": [
    "import statistics as stat"
   ]
  },
  {
   "cell_type": "code",
   "execution_count": null,
   "id": "c0ea34cd",
   "metadata": {},
   "outputs": [],
   "source": [
    "s = [1,3,5,6,1.0,11.2]\n",
    "s"
   ]
  },
  {
   "cell_type": "code",
   "execution_count": null,
   "id": "5f227068",
   "metadata": {},
   "outputs": [],
   "source": [
    "stat.mean(l)"
   ]
  },
  {
   "cell_type": "code",
   "execution_count": null,
   "id": "5f2cd039",
   "metadata": {},
   "outputs": [],
   "source": [
    "stat.median(l)"
   ]
  },
  {
   "cell_type": "code",
   "execution_count": null,
   "id": "2335c3e4",
   "metadata": {},
   "outputs": [],
   "source": [
    "stat.mode(l)"
   ]
  },
  {
   "cell_type": "code",
   "execution_count": null,
   "id": "7e6ee71e",
   "metadata": {},
   "outputs": [],
   "source": [
    "stat.stdev(l)"
   ]
  },
  {
   "cell_type": "code",
   "execution_count": null,
   "id": "9bfd9538",
   "metadata": {},
   "outputs": [],
   "source": [
    "stat.variance(l)"
   ]
  },
  {
   "cell_type": "code",
   "execution_count": null,
   "id": "25f479ac",
   "metadata": {},
   "outputs": [],
   "source": [
    "import numpy as np"
   ]
  },
  {
   "cell_type": "code",
   "execution_count": null,
   "id": "6b897a32",
   "metadata": {},
   "outputs": [],
   "source": [
    "p1 = np.array([3, 2.1, 5, 9.7, 4, 5.5,1])\n",
    "p1"
   ]
  },
  {
   "cell_type": "code",
   "execution_count": null,
   "id": "690b7d55",
   "metadata": {},
   "outputs": [],
   "source": [
    "type(p1)"
   ]
  },
  {
   "cell_type": "code",
   "execution_count": null,
   "id": "c39fceed",
   "metadata": {},
   "outputs": [],
   "source": [
    "p1.shape"
   ]
  },
  {
   "cell_type": "code",
   "execution_count": null,
   "id": "c931b6b1",
   "metadata": {},
   "outputs": [],
   "source": [
    "p1[0]"
   ]
  },
  {
   "cell_type": "code",
   "execution_count": null,
   "id": "ee8993fb",
   "metadata": {},
   "outputs": [],
   "source": [
    "p1[1 : 4]"
   ]
  },
  {
   "cell_type": "code",
   "execution_count": null,
   "id": "75208da7",
   "metadata": {},
   "outputs": [],
   "source": [
    "p1[[0, 3, 4]]"
   ]
  },
  {
   "cell_type": "code",
   "execution_count": null,
   "id": "017c6a6c",
   "metadata": {},
   "outputs": [],
   "source": [
    "p2 = np.array([[11,1.0, 1], [2, 0, 4], [1, 4, 3]])\n",
    "p2"
   ]
  },
  {
   "cell_type": "code",
   "execution_count": null,
   "id": "d1d3bfce",
   "metadata": {},
   "outputs": [],
   "source": [
    "p2.shape"
   ]
  },
  {
   "cell_type": "code",
   "execution_count": null,
   "id": "77197875",
   "metadata": {},
   "outputs": [],
   "source": [
    "p2[1, 2]"
   ]
  },
  {
   "cell_type": "code",
   "execution_count": null,
   "id": "e643a426",
   "metadata": {},
   "outputs": [],
   "source": [
    "p2[2]"
   ]
  },
  {
   "cell_type": "code",
   "execution_count": null,
   "id": "36e12955",
   "metadata": {},
   "outputs": [],
   "source": [
    "p2[1, :]"
   ]
  },
  {
   "cell_type": "code",
   "execution_count": null,
   "id": "9092b206",
   "metadata": {},
   "outputs": [],
   "source": [
    "p2[1 :, 1:]"
   ]
  },
  {
   "cell_type": "code",
   "execution_count": null,
   "id": "f5ff36cf",
   "metadata": {},
   "outputs": [],
   "source": [
    "p2.dtype"
   ]
  },
  {
   "cell_type": "code",
   "execution_count": null,
   "id": "70b48176",
   "metadata": {},
   "outputs": [],
   "source": [
    "p1"
   ]
  },
  {
   "cell_type": "code",
   "execution_count": null,
   "id": "c2b9eb24",
   "metadata": {},
   "outputs": [],
   "source": [
    "p1[1] = 0\n",
    "p1"
   ]
  },
  {
   "cell_type": "code",
   "execution_count": null,
   "id": "8bab39e3",
   "metadata": {},
   "outputs": [],
   "source": [
    "p3 = np.zeros((2, 3), dtype = int)\n",
    "p3"
   ]
  },
  {
   "cell_type": "code",
   "execution_count": null,
   "id": "fb866c06",
   "metadata": {},
   "outputs": [],
   "source": [
    "p4 = np.ones((3, 3), dtype = int)\n",
    "p4"
   ]
  },
  {
   "cell_type": "code",
   "execution_count": null,
   "id": "a8f449ba",
   "metadata": {},
   "outputs": [],
   "source": [
    "p5 = np.arange(1, 20, 3)\n",
    "p5"
   ]
  },
  {
   "cell_type": "code",
   "execution_count": null,
   "id": "874ea65c",
   "metadata": {},
   "outputs": [],
   "source": [
    "p6 = np.arange(5)\n",
    "p6"
   ]
  },
  {
   "cell_type": "code",
   "execution_count": null,
   "id": "121799ff",
   "metadata": {},
   "outputs": [],
   "source": [
    "p7 = np.linspace(1, 5, 30)\n",
    "p7"
   ]
  },
  {
   "cell_type": "code",
   "execution_count": null,
   "id": "bc8031ea",
   "metadata": {},
   "outputs": [],
   "source": [
    "p7.shape"
   ]
  },
  {
   "cell_type": "code",
   "execution_count": null,
   "id": "4df0d40a",
   "metadata": {},
   "outputs": [],
   "source": [
    "p7 = p7.reshape(5, 6)\n",
    "p7"
   ]
  },
  {
   "cell_type": "code",
   "execution_count": null,
   "id": "d51be7e2",
   "metadata": {},
   "outputs": [],
   "source": [
    "np.random.seed(123)\n",
    "p8 = np.random.normal(0, 1, (3, 3))\n",
    "p8"
   ]
  },
  {
   "cell_type": "code",
   "execution_count": null,
   "id": "7e2d8e93",
   "metadata": {},
   "outputs": [],
   "source": [
    "np.random.seed(123)\n",
    "p9 = np.random.randint(0, 10, (3, 3))\n",
    "p9"
   ]
  },
  {
   "cell_type": "code",
   "execution_count": null,
   "id": "949a0bc6",
   "metadata": {},
   "outputs": [],
   "source": [
    "np.max(p9)"
   ]
  },
  {
   "cell_type": "code",
   "execution_count": null,
   "id": "d23bef42",
   "metadata": {},
   "outputs": [],
   "source": [
    "np.mean(p9)"
   ]
  },
  {
   "cell_type": "code",
   "execution_count": null,
   "id": "a289bbd3",
   "metadata": {},
   "outputs": [],
   "source": [
    "np.std(p9)"
   ]
  },
  {
   "cell_type": "code",
   "execution_count": null,
   "id": "58932c12",
   "metadata": {},
   "outputs": [],
   "source": [
    "np.min(p9)"
   ]
  },
  {
   "cell_type": "code",
   "execution_count": null,
   "id": "d9517219",
   "metadata": {},
   "outputs": [],
   "source": [
    "np.sum(p9, axis = 0)"
   ]
  },
  {
   "cell_type": "code",
   "execution_count": null,
   "id": "746976c4",
   "metadata": {},
   "outputs": [],
   "source": [
    "np.sum(p9, axis = 1)"
   ]
  },
  {
   "cell_type": "code",
   "execution_count": null,
   "id": "2cb1535e",
   "metadata": {},
   "outputs": [],
   "source": [
    "p9 + 5"
   ]
  },
  {
   "cell_type": "code",
   "execution_count": null,
   "id": "53ba3179",
   "metadata": {},
   "outputs": [],
   "source": [
    "p9 * 2"
   ]
  },
  {
   "cell_type": "code",
   "execution_count": null,
   "id": "d7d76361",
   "metadata": {},
   "outputs": [],
   "source": [
    "p2 + p9"
   ]
  },
  {
   "cell_type": "code",
   "execution_count": null,
   "id": "e0d202c6",
   "metadata": {},
   "outputs": [],
   "source": [
    "p2 * p9"
   ]
  },
  {
   "cell_type": "code",
   "execution_count": null,
   "id": "8390d3fa",
   "metadata": {},
   "outputs": [],
   "source": [
    "np.dot(p2, p9)"
   ]
  },
  {
   "cell_type": "code",
   "execution_count": null,
   "id": "45b2e7c0",
   "metadata": {},
   "outputs": [],
   "source": [
    "p9.T"
   ]
  },
  {
   "cell_type": "code",
   "execution_count": null,
   "id": "68f8a16a",
   "metadata": {},
   "outputs": [],
   "source": [
    "p9 > 2"
   ]
  },
  {
   "cell_type": "code",
   "execution_count": null,
   "id": "fd1b699d",
   "metadata": {},
   "outputs": [],
   "source": [
    "p9[(p9 % 3 == 0) & (p9 > 4)]"
   ]
  },
  {
   "cell_type": "code",
   "execution_count": null,
   "id": "0f400db7",
   "metadata": {},
   "outputs": [],
   "source": [
    "np.concatenate((p2, p9), axis = 0)"
   ]
  }
 ],
 "metadata": {
  "kernelspec": {
   "display_name": "Python 3 (ipykernel)",
   "language": "python",
   "name": "python3"
  },
  "language_info": {
   "codemirror_mode": {
    "name": "ipython",
    "version": 3
   },
   "file_extension": ".py",
   "mimetype": "text/x-python",
   "name": "python",
   "nbconvert_exporter": "python",
   "pygments_lexer": "ipython3",
   "version": "3.11.5"
  }
 },
 "nbformat": 4,
 "nbformat_minor": 5
}
