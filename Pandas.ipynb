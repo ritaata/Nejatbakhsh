{
 "cells": [
  {
   "cell_type": "code",
   "execution_count": null,
   "id": "e5dec257",
   "metadata": {},
   "outputs": [],
   "source": [
    "import numpy as np\n",
    "import pandas as pd\n",
    "import matplotlib.pyplot as plt"
   ]
  },
  {
   "cell_type": "code",
   "execution_count": null,
   "id": "194c87d1",
   "metadata": {},
   "outputs": [],
   "source": [
    "df = pd.DataFrame({'id_product' : ['s1', 's2', 's3', 's4'],\n",
    "                   'demand':[120,20,30,50],\n",
    "                   'name': ['t1', 't2', 't3', 't4'],\n",
    "                   'brand' : ['x', 'n', 'y', 'z'],\n",
    "                    'price':[200, 100 ,300 ,400 ]})\n",
    "df"
   ]
  },
  {
   "cell_type": "code",
   "execution_count": null,
   "id": "a2b9e2f5",
   "metadata": {},
   "outputs": [],
   "source": [
    "df.index = ['n1', 'n2', 'n3', 'n4']\n",
    "df"
   ]
  },
  {
   "cell_type": "code",
   "execution_count": null,
   "id": "1b5b350b",
   "metadata": {},
   "outputs": [],
   "source": [
    "df.info()"
   ]
  },
  {
   "cell_type": "code",
   "execution_count": null,
   "id": "265969d0",
   "metadata": {},
   "outputs": [],
   "source": [
    "df.demand"
   ]
  },
  {
   "cell_type": "code",
   "execution_count": null,
   "id": "45350115",
   "metadata": {},
   "outputs": [],
   "source": [
    "df[['demand','price','id_product']]"
   ]
  },
  {
   "cell_type": "code",
   "execution_count": null,
   "id": "9f788273",
   "metadata": {},
   "outputs": [],
   "source": [
    "df"
   ]
  },
  {
   "cell_type": "code",
   "execution_count": null,
   "id": "34eb16b8",
   "metadata": {},
   "outputs": [],
   "source": [
    "df.iloc[0]"
   ]
  },
  {
   "cell_type": "code",
   "execution_count": null,
   "id": "4ea1e566",
   "metadata": {},
   "outputs": [],
   "source": [
    "df.iloc[1,2]"
   ]
  },
  {
   "cell_type": "code",
   "execution_count": null,
   "id": "3d8a2c2b",
   "metadata": {},
   "outputs": [],
   "source": [
    "df.iloc[0,:]"
   ]
  },
  {
   "cell_type": "code",
   "execution_count": null,
   "id": "27087dfe",
   "metadata": {},
   "outputs": [],
   "source": [
    "df"
   ]
  },
  {
   "cell_type": "code",
   "execution_count": null,
   "id": "0288cb2a",
   "metadata": {},
   "outputs": [],
   "source": [
    "df.iloc[[1,3],-1]"
   ]
  },
  {
   "cell_type": "code",
   "execution_count": null,
   "id": "1800013a",
   "metadata": {},
   "outputs": [],
   "source": [
    " df.iloc[:,-1]"
   ]
  },
  {
   "cell_type": "code",
   "execution_count": null,
   "id": "b8f31ddf",
   "metadata": {},
   "outputs": [],
   "source": [
    "df.loc[:,'demand']"
   ]
  },
  {
   "cell_type": "code",
   "execution_count": null,
   "id": "5d81f726",
   "metadata": {},
   "outputs": [],
   "source": [
    "df.loc[['n1','n2'],['brand','demand']]"
   ]
  },
  {
   "cell_type": "code",
   "execution_count": null,
   "id": "0df1624d",
   "metadata": {},
   "outputs": [],
   "source": [
    "df"
   ]
  },
  {
   "cell_type": "code",
   "execution_count": null,
   "id": "88e73b53",
   "metadata": {},
   "outputs": [],
   "source": [
    "df.loc[df['price']>100,:]"
   ]
  },
  {
   "cell_type": "code",
   "execution_count": null,
   "id": "bdc5ca9b",
   "metadata": {},
   "outputs": [],
   "source": [
    "df.loc[df['brand']=='x',:]"
   ]
  },
  {
   "cell_type": "code",
   "execution_count": null,
   "id": "ba1a25d5",
   "metadata": {},
   "outputs": [],
   "source": [
    "df.loc['n5',:]=pd.Series({'id_product':\"s5\",\n",
    "                         'demand':1000,\n",
    "                         'name':'t5',\n",
    "                         'brand':'zx',\n",
    "                         'price':500})\n",
    "df"
   ]
  },
  {
   "cell_type": "code",
   "execution_count": null,
   "id": "dfbb0852",
   "metadata": {},
   "outputs": [],
   "source": [
    "df['rev']=df['demand']*df['price']\n",
    "df"
   ]
  },
  {
   "cell_type": "code",
   "execution_count": null,
   "id": "3a0b4ece",
   "metadata": {},
   "outputs": [],
   "source": [
    "df.loc[df['price']<300,'price']*1.5"
   ]
  },
  {
   "cell_type": "code",
   "execution_count": null,
   "id": "45a2be21",
   "metadata": {},
   "outputs": [],
   "source": [
    "df"
   ]
  },
  {
   "cell_type": "code",
   "execution_count": null,
   "id": "c113aa5d",
   "metadata": {},
   "outputs": [],
   "source": [
    "data=pd.read_csv('sample_data.csv')"
   ]
  },
  {
   "cell_type": "code",
   "execution_count": null,
   "id": "fbeebc95",
   "metadata": {},
   "outputs": [],
   "source": [
    "import os"
   ]
  },
  {
   "cell_type": "code",
   "execution_count": null,
   "id": "7850598e",
   "metadata": {},
   "outputs": [],
   "source": [
    "os.getcwd()"
   ]
  },
  {
   "cell_type": "code",
   "execution_count": null,
   "id": "df269e3a",
   "metadata": {},
   "outputs": [],
   "source": [
    "data.info()"
   ]
  },
  {
   "cell_type": "code",
   "execution_count": null,
   "id": "e12423db",
   "metadata": {},
   "outputs": [],
   "source": [
    "data.head(2)"
   ]
  },
  {
   "cell_type": "code",
   "execution_count": null,
   "id": "9f5553b7",
   "metadata": {},
   "outputs": [],
   "source": [
    "data.tail(3)"
   ]
  },
  {
   "cell_type": "code",
   "execution_count": null,
   "id": "7894a360",
   "metadata": {},
   "outputs": [],
   "source": [
    "data.describe()"
   ]
  },
  {
   "cell_type": "code",
   "execution_count": null,
   "id": "b62b76fe",
   "metadata": {},
   "outputs": [],
   "source": [
    "np.sum(data.isnull())"
   ]
  },
  {
   "cell_type": "code",
   "execution_count": null,
   "id": "540aa8c9",
   "metadata": {},
   "outputs": [],
   "source": [
    "data['id'].nunique()"
   ]
  },
  {
   "cell_type": "code",
   "execution_count": null,
   "id": "cff57fe0",
   "metadata": {},
   "outputs": [],
   "source": [
    "data['sex'].value_counts()"
   ]
  },
  {
   "cell_type": "code",
   "execution_count": null,
   "id": "9e18fa2d",
   "metadata": {},
   "outputs": [],
   "source": [
    "data['is_employed'].value_counts()"
   ]
  },
  {
   "cell_type": "code",
   "execution_count": null,
   "id": "da97c361",
   "metadata": {},
   "outputs": [],
   "source": [
    "data.loc[data['sex']=='M',['age','income']]"
   ]
  },
  {
   "cell_type": "code",
   "execution_count": null,
   "id": "5838a645",
   "metadata": {},
   "outputs": [],
   "source": [
    "data.shape"
   ]
  },
  {
   "cell_type": "code",
   "execution_count": null,
   "id": "5dfa9549",
   "metadata": {},
   "outputs": [],
   "source": [
    "np.sum(data['sex']=='F')*100/data.shape[0]"
   ]
  },
  {
   "cell_type": "code",
   "execution_count": null,
   "id": "03b020d4",
   "metadata": {},
   "outputs": [],
   "source": [
    "data.loc[data['sex']=='F','sex'].value_counts()*100/data.shape[0]"
   ]
  },
  {
   "cell_type": "code",
   "execution_count": null,
   "id": "56e315b7",
   "metadata": {},
   "outputs": [],
   "source": [
    "data['is_employed'].value_counts()"
   ]
  },
  {
   "cell_type": "code",
   "execution_count": null,
   "id": "3a50f1f6",
   "metadata": {},
   "outputs": [],
   "source": [
    "np.sum(data['is_employed'].isnull())"
   ]
  },
  {
   "cell_type": "code",
   "execution_count": null,
   "id": "bb43e7ee",
   "metadata": {},
   "outputs": [],
   "source": [
    "np.sum(data['is_employed'].notnull())"
   ]
  },
  {
   "cell_type": "code",
   "execution_count": null,
   "id": "ea5b1b0f",
   "metadata": {},
   "outputs": [],
   "source": [
    "np.sum(data[\"is_employed\"]==True)/np.sum(data['is_employed'].notnull())*100"
   ]
  },
  {
   "cell_type": "code",
   "execution_count": null,
   "id": "b7be0818",
   "metadata": {},
   "outputs": [],
   "source": [
    "np.round(np.sum(data[\"is_employed\"]==True)/np.sum(data['is_employed'].notnull())*100)"
   ]
  },
  {
   "cell_type": "code",
   "execution_count": null,
   "id": "20b6152f",
   "metadata": {},
   "outputs": [],
   "source": [
    "data['income'].describe()"
   ]
  },
  {
   "cell_type": "code",
   "execution_count": null,
   "id": "a763d4c0",
   "metadata": {},
   "outputs": [],
   "source": [
    "np.round(np.sum(data['income'].isnull())/data.shape[0]*100)"
   ]
  },
  {
   "cell_type": "code",
   "execution_count": null,
   "id": "f6c91ae4",
   "metadata": {},
   "outputs": [],
   "source": [
    "np.round(np.sum(data['income']==0)/data.shape[0]*100)"
   ]
  },
  {
   "cell_type": "code",
   "execution_count": null,
   "id": "d25283c8",
   "metadata": {},
   "outputs": [],
   "source": [
    "data['age'].describe()"
   ]
  },
  {
   "cell_type": "code",
   "execution_count": null,
   "id": "d55ff02d",
   "metadata": {},
   "outputs": [],
   "source": [
    "data.loc[data['age']>100,:]"
   ]
  },
  {
   "cell_type": "code",
   "execution_count": null,
   "id": "44ef2006",
   "metadata": {},
   "outputs": [],
   "source": [
    "plt.hist(data['income'])"
   ]
  }
 ],
 "metadata": {
  "kernelspec": {
   "display_name": "Python 3 (ipykernel)",
   "language": "python",
   "name": "python3"
  },
  "language_info": {
   "codemirror_mode": {
    "name": "ipython",
    "version": 3
   },
   "file_extension": ".py",
   "mimetype": "text/x-python",
   "name": "python",
   "nbconvert_exporter": "python",
   "pygments_lexer": "ipython3",
   "version": "3.11.5"
  }
 },
 "nbformat": 4,
 "nbformat_minor": 5
}
