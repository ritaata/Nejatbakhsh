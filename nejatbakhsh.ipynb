{
 "cells": [
  {
   "cell_type": "code",
   "execution_count": null,
   "id": "2e65649d",
   "metadata": {},
   "outputs": [],
   "source": [
    "import pandas as pd\n",
    "import numpy as np\n",
    "import matplotlib.pyplot as plt\n",
    "import seaborn as sns\n",
    "%matplotlib inline"
   ]
  },
  {
   "cell_type": "code",
   "execution_count": null,
   "id": "08e7677d",
   "metadata": {},
   "outputs": [],
   "source": [
    "USAhousing = pd.read_csv('USA_Housing.csv')"
   ]
  },
  {
   "cell_type": "code",
   "execution_count": null,
   "id": "8ed3de18",
   "metadata": {},
   "outputs": [],
   "source": [
    "USAhousing.head()"
   ]
  },
  {
   "cell_type": "code",
   "execution_count": null,
   "id": "79e5263c",
   "metadata": {},
   "outputs": [],
   "source": [
    "USAhousing.info()"
   ]
  },
  {
   "cell_type": "code",
   "execution_count": null,
   "id": "136adb94",
   "metadata": {},
   "outputs": [],
   "source": [
    "USAhousing.describe()"
   ]
  },
  {
   "cell_type": "code",
   "execution_count": null,
   "id": "bec0fa90",
   "metadata": {},
   "outputs": [],
   "source": [
    "np.sum(USAhousing.isnull())"
   ]
  },
  {
   "cell_type": "code",
   "execution_count": null,
   "id": "330001ff",
   "metadata": {},
   "outputs": [],
   "source": [
    "Avg. Area Income                0\n",
    "Avg. Area House Age             0\n",
    "Avg. Area Number of Rooms       0\n",
    "Avg. Area Number of Bedrooms    0\n",
    "Area Population                 0\n",
    "Price                           0\n",
    "Address                         0\n",
    "dtype: int64"
   ]
  },
  {
   "cell_type": "code",
   "execution_count": null,
   "id": "e9ef6214",
   "metadata": {},
   "outputs": [],
   "source": [
    "np.sum(USAhousing.duplicated())"
   ]
  },
  {
   "cell_type": "code",
   "execution_count": null,
   "id": "e263cb69",
   "metadata": {},
   "outputs": [],
   "source": [
    "#Histogram of numeric variables\n",
    "var_ind = list(range(1, 6))\n",
    "plt.figure(figsize = (12, 15))\n",
    "plt.subplots_adjust(hspace = 0.5, wspace = 0.5)\n",
    "for i in range(1, 6):\n",
    "    plt.subplot(3, 2, i)\n",
    "    plt.hist(x = USAhousing.iloc[: , var_ind[i - 1]], alpha = 0.4, color = 'red',edgecolor = \"black\")\n",
    "    plt.title(USAhousing.columns[var_ind[i - 1]])\n"
   ]
  },
  {
   "cell_type": "code",
   "execution_count": null,
   "id": "78fcc448",
   "metadata": {},
   "outputs": [],
   "source": [
    "sns.pairplot(USAhousing)"
   ]
  },
  {
   "cell_type": "code",
   "execution_count": null,
   "id": "c67aaa81",
   "metadata": {},
   "outputs": [],
   "source": [
    "sns.distplot(USAhousing['Price'],bins=20,kde=True,color='red')"
   ]
  },
  {
   "cell_type": "code",
   "execution_count": null,
   "id": "f5f679b6",
   "metadata": {},
   "outputs": [],
   "source": [
    "<Axes: xlabel='Price', ylabel='Density'>"
   ]
  },
  {
   "cell_type": "code",
   "execution_count": null,
   "id": "aa5ec919",
   "metadata": {},
   "outputs": [],
   "source": [
    "plt.hist(USAhousing['Price'],bins=10,edgecolor = \"black\")"
   ]
  },
  {
   "cell_type": "code",
   "execution_count": null,
   "id": "736c9095",
   "metadata": {},
   "outputs": [],
   "source": [
    "USAhousing['Price'].mean()"
   ]
  },
  {
   "cell_type": "code",
   "execution_count": null,
   "id": "967f8d50",
   "metadata": {},
   "outputs": [],
   "source": [
    "USAhousing['Price'].std()"
   ]
  },
  {
   "cell_type": "code",
   "execution_count": null,
   "id": "171ea2fb",
   "metadata": {},
   "outputs": [],
   "source": [
    "plt.boxplot(USAhousing['Price'])\n",
    "plt.show()\n"
   ]
  },
  {
   "cell_type": "code",
   "execution_count": null,
   "id": "8655af97",
   "metadata": {},
   "outputs": [],
   "source": [
    "#Scatter plot\n",
    "var_ind = list(range(1, 6))\n",
    "plt.figure(figsize = (15, 25))\n",
    "plt.subplots_adjust(hspace = 0.5, wspace = 0.5)\n",
    "for i in range(1, 6):\n",
    "    plt.subplot(3, 2, i)\n",
    "    plt.scatter(x = USAhousing.iloc[: , var_ind[i - 1]], y = USAhousing['Price'], alpha = 0.4, color = 'red')\n",
    "    plt.title('Price vs. ' + USAhousing.columns[var_ind[i - 1]])"
   ]
  },
  {
   "cell_type": "code",
   "execution_count": null,
   "id": "9c811b95",
   "metadata": {},
   "outputs": [],
   "source": [
    "X = USAhousing.iloc[:, :5]\n",
    "y = USAhousing.iloc[:,-2]"
   ]
  },
  {
   "cell_type": "code",
   "execution_count": null,
   "id": "abac2ffd",
   "metadata": {},
   "outputs": [],
   "source": [
    "Xb"
   ]
  },
  {
   "cell_type": "code",
   "execution_count": null,
   "id": "43a51d50",
   "metadata": {},
   "outputs": [],
   "source": [
    "y"
   ]
  },
  {
   "cell_type": "code",
   "execution_count": null,
   "id": "2af5fcbd",
   "metadata": {},
   "outputs": [],
   "source": [
    "from sklearn.model_selection import train_test_split"
   ]
  },
  {
   "cell_type": "code",
   "execution_count": null,
   "id": "47180a12",
   "metadata": {},
   "outputs": [],
   "source": [
    "sc = StandardScaler()"
   ]
  },
  {
   "cell_type": "code",
   "execution_count": null,
   "id": "33963f95",
   "metadata": {},
   "outputs": [],
   "source": [
    "sc.fit(X_train)"
   ]
  },
  {
   "cell_type": "code",
   "execution_count": null,
   "id": "9d84a0ec",
   "metadata": {},
   "outputs": [],
   "source": [
    "X_train_scaled=sc.transform(X_train)"
   ]
  },
  {
   "cell_type": "code",
   "execution_count": null,
   "id": "bec2ea7d",
   "metadata": {},
   "outputs": [],
   "source": [
    "X_train_scaled1 = sc.fit_transform(X_train)"
   ]
  },
  {
   "cell_type": "code",
   "execution_count": null,
   "id": "b91aeb0a",
   "metadata": {},
   "outputs": [],
   "source": [
    "X_train_scaled"
   ]
  },
  {
   "cell_type": "code",
   "execution_count": null,
   "id": "9bfac1f9",
   "metadata": {},
   "outputs": [],
   "source": [
    "X_train_scaled1"
   ]
  },
  {
   "cell_type": "code",
   "execution_count": null,
   "id": "9083e227",
   "metadata": {},
   "outputs": [],
   "source": [
    "col=X.columns\n",
    "X_train_scaled = pd.DataFrame(X_train_scaled, columns=col)\n",
    "X_train_scaled"
   ]
  },
  {
   "cell_type": "code",
   "execution_count": null,
   "id": "4c190a8e",
   "metadata": {},
   "outputs": [],
   "source": [
    "X_test"
   ]
  },
  {
   "cell_type": "code",
   "execution_count": null,
   "id": "60cf511a",
   "metadata": {},
   "outputs": [],
   "source": [
    "X_test_scaled=sc.transform(X_test)"
   ]
  },
  {
   "cell_type": "code",
   "execution_count": null,
   "id": "bcf27272",
   "metadata": {},
   "outputs": [],
   "source": [
    "col=X.columns\n",
    "X_test_scaled = pd.DataFrame(X_test_scaled, columns=col)\n",
    "X_test_scaled"
   ]
  },
  {
   "cell_type": "code",
   "execution_count": null,
   "id": "2ff6a630",
   "metadata": {},
   "outputs": [],
   "source": [
    "X_train= X_train_scaled\n",
    "X_test= X_test_scaled"
   ]
  },
  {
   "cell_type": "code",
   "execution_count": null,
   "id": "016bac63",
   "metadata": {},
   "outputs": [],
   "source": [
    "from sklearn.linear_model import LinearRegression"
   ]
  },
  {
   "cell_type": "code",
   "execution_count": null,
   "id": "46af46b4",
   "metadata": {},
   "outputs": [],
   "source": [
    "lm = LinearRegression()"
   ]
  },
  {
   "cell_type": "code",
   "execution_count": null,
   "id": "6003f155",
   "metadata": {},
   "outputs": [],
   "source": [
    "lm.fit(X_train,y_train)"
   ]
  },
  {
   "cell_type": "code",
   "execution_count": null,
   "id": "3c43cadf",
   "metadata": {},
   "outputs": [],
   "source": [
    "LinearRegression()"
   ]
  },
  {
   "cell_type": "code",
   "execution_count": null,
   "id": "d0828e6d",
   "metadata": {},
   "outputs": [],
   "source": [
    "print(lm.intercept_)"
   ]
  },
  {
   "cell_type": "code",
   "execution_count": null,
   "id": "e4395a27",
   "metadata": {},
   "outputs": [],
   "source": [
    "print(lm.coef_)\n",
    "[227623.4635687  160615.53988611 121847.23967883   2752.11164641\n",
    " 151227.42361628]"
   ]
  },
  {
   "cell_type": "code",
   "execution_count": null,
   "id": "fb20ec2f",
   "metadata": {},
   "outputs": [],
   "source": [
    "predictions = lm.predict(X_test)"
   ]
  },
  {
   "cell_type": "code",
   "execution_count": null,
   "id": "3a386c29",
   "metadata": {},
   "outputs": [],
   "source": [
    "predictions"
   ]
  },
  {
   "cell_type": "code",
   "execution_count": null,
   "id": "41e65442",
   "metadata": {},
   "outputs": [],
   "source": [
    "sns.scatterplot(x=y_test, y=predictions)"
   ]
  },
  {
   "cell_type": "code",
   "execution_count": null,
   "id": "0150169e",
   "metadata": {},
   "outputs": [],
   "source": [
    "residual= y_test-predictions"
   ]
  },
  {
   "cell_type": "code",
   "execution_count": null,
   "id": "4019e978",
   "metadata": {},
   "outputs": [],
   "source": [
    "sns.distplot(residual,bins=50);"
   ]
  },
  {
   "cell_type": "code",
   "execution_count": null,
   "id": "f9f4a1b2",
   "metadata": {},
   "outputs": [],
   "source": [
    "from sklearn import metrics"
   ]
  },
  {
   "cell_type": "code",
   "execution_count": null,
   "id": "fc320650",
   "metadata": {},
   "outputs": [],
   "source": [
    "print('MAE:', metrics.mean_absolute_error(y_test, predictions))\n",
    "print('MSE:', metrics.mean_squared_error(y_test, predictions))\n",
    "print('RMSE:', np.sqrt(metrics.mean_squared_error(y_test, predictions)))\n",
    "print('R2:', np.sqrt(metrics.r2_score(y_test, predictions)))\n",
    "MAE: 82288.222507218\n",
    "MSE: 10460958905.775793\n",
    "RMSE: 102278.8292159027\n",
    "R2: 0.9579574108373385"
   ]
  }
 ],
 "metadata": {
  "kernelspec": {
   "display_name": "Python 3 (ipykernel)",
   "language": "python",
   "name": "python3"
  },
  "language_info": {
   "codemirror_mode": {
    "name": "ipython",
    "version": 3
   },
   "file_extension": ".py",
   "mimetype": "text/x-python",
   "name": "python",
   "nbconvert_exporter": "python",
   "pygments_lexer": "ipython3",
   "version": "3.11.5"
  }
 },
 "nbformat": 4,
 "nbformat_minor": 5
}
