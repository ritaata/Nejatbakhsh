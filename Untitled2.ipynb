{
 "cells": [
  {
   "cell_type": "code",
   "execution_count": 1,
   "id": "915e72da",
   "metadata": {},
   "outputs": [],
   "source": [
    "import pandas as pd\n",
    "import numpy as np\n",
    "import matplotlib.pyplot as plt\n",
    "import seaborn as sns\n",
    "%matplotlib inline"
   ]
  },
  {
   "cell_type": "code",
   "execution_count": null,
   "id": "b3dc4422",
   "metadata": {},
   "outputs": [],
   "source": [
    "USAhousing = pd.read_csv('USA_Housing.csv')\n"
   ]
  },
  {
   "cell_type": "code",
   "execution_count": null,
   "id": "59659528",
   "metadata": {},
   "outputs": [],
   "source": [
    "USAhousing.head()"
   ]
  },
  {
   "cell_type": "code",
   "execution_count": null,
   "id": "20de7bca",
   "metadata": {},
   "outputs": [],
   "source": [
    "Avg. Area Income\tAvg. Area House Age\tAvg. Area Number of Rooms\tAvg. Area Number of Bedrooms\tArea Population\tPrice\tAddress\n",
    "0\t79545.45857\t5.682861\t7.009188\t4.09\t23086.80050\t1.059034e+06\t208 Michael Ferry Apt. 674\\nLaurabury, NE 3701...\n",
    "1\t79248.64245\t6.002900\t6.730821\t3.09\t40173.07217\t1.505891e+06\t188 Johnson Views Suite 079\\nLake Kathleen, CA...\n",
    "2\t61287.06718\t5.865890\t8.512727\t5.13\t36882.15940\t1.058988e+06\t9127 Elizabeth Stravenue\\nDanieltown, WI 06482...\n",
    "3\t63345.24005\t7.188236\t5.586729\t3.26\t34310.24283\t1.260617e+06\tUSS Barnett\\nFPO AP 44820\n",
    "4\t59982.19723\t5.040555\t7.839388\t4.23\t26354.10947\t6.309435e+05\tUSNS Raymond\\nFPO AE 09386"
   ]
  }
 ],
 "metadata": {
  "kernelspec": {
   "display_name": "Python 3 (ipykernel)",
   "language": "python",
   "name": "python3"
  },
  "language_info": {
   "codemirror_mode": {
    "name": "ipython",
    "version": 3
   },
   "file_extension": ".py",
   "mimetype": "text/x-python",
   "name": "python",
   "nbconvert_exporter": "python",
   "pygments_lexer": "ipython3",
   "version": "3.11.5"
  }
 },
 "nbformat": 4,
 "nbformat_minor": 5
}
